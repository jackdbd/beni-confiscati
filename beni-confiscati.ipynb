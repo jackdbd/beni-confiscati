{
 "cells": [
  {
   "cell_type": "code",
   "execution_count": 1,
   "metadata": {},
   "outputs": [],
   "source": [
    "import os\n",
    "import pyproj\n",
    "import folium\n",
    "import numpy as np\n",
    "import pandas as pd\n",
    "import geopandas as gpd\n",
    "import shapely.geometry as sg\n",
    "import cartopy.crs as ccrs"
   ]
  },
  {
   "cell_type": "code",
   "execution_count": 2,
   "metadata": {},
   "outputs": [
    {
     "name": "stdout",
     "output_type": "stream",
     "text": [
      "/home/jack/Repos/beni-confiscati/data\n"
     ]
    }
   ],
   "source": [
    "data_dir = os.path.join(os.getcwd(), 'data')\n",
    "print(data_dir)"
   ]
  },
  {
   "cell_type": "markdown",
   "metadata": {},
   "source": [
    "## Data"
   ]
  },
  {
   "cell_type": "markdown",
   "metadata": {},
   "source": [
    "Source: Regione Toscana – [Beni confiscati alla criminalità organizzata](http://dati.toscana.it/dataset/rt-beniconfiscati)\n",
    "\n",
    "The dataset is released under the [CC BY-SA 4.0](https://creativecommons.org/licenses/by-sa/4.0/) license."
   ]
  },
  {
   "cell_type": "code",
   "execution_count": 3,
   "metadata": {},
   "outputs": [],
   "source": [
    "df = pd.read_csv(os.path.join(data_dir, 'beniconfiscatiXall.csv'), sep='|')"
   ]
  },
  {
   "cell_type": "markdown",
   "metadata": {},
   "source": [
    "## Overview"
   ]
  },
  {
   "cell_type": "code",
   "execution_count": 4,
   "metadata": {},
   "outputs": [
    {
     "data": {
      "text/plain": [
       "(497, 24)"
      ]
     },
     "execution_count": 4,
     "metadata": {},
     "output_type": "execute_result"
    }
   ],
   "source": [
    "df.shape"
   ]
  },
  {
   "cell_type": "code",
   "execution_count": 5,
   "metadata": {},
   "outputs": [
    {
     "data": {
      "text/plain": [
       "Index(['id', 'nome', 'gbnord', 'gbest', 'tipologia',\n",
       "       'descrizione_categoria_bene', 'macroiteramm',\n",
       "       'descrizione_sottocategoria_bene', 'prov', 'comune', 'indirizzo',\n",
       "       'link_scheda_rt', 'desitergiu', 'destipodest', 'descrizioneentedest',\n",
       "       'colonna', 'dataprovvdest', 'annoprovvdest', 'ufficio_giudiziario',\n",
       "       'distretto', 'procedura', 'numero_decreto', 'fonte', 'Unnamed: 23'],\n",
       "      dtype='object')"
      ]
     },
     "execution_count": 5,
     "metadata": {},
     "output_type": "execute_result"
    }
   ],
   "source": [
    "df.columns"
   ]
  },
  {
   "cell_type": "code",
   "execution_count": 6,
   "metadata": {},
   "outputs": [
    {
     "data": {
      "text/html": [
       "<div>\n",
       "<style scoped>\n",
       "    .dataframe tbody tr th:only-of-type {\n",
       "        vertical-align: middle;\n",
       "    }\n",
       "\n",
       "    .dataframe tbody tr th {\n",
       "        vertical-align: top;\n",
       "    }\n",
       "\n",
       "    .dataframe thead th {\n",
       "        text-align: right;\n",
       "    }\n",
       "</style>\n",
       "<table border=\"1\" class=\"dataframe\">\n",
       "  <thead>\n",
       "    <tr style=\"text-align: right;\">\n",
       "      <th></th>\n",
       "      <th>id</th>\n",
       "      <th>nome</th>\n",
       "      <th>gbnord</th>\n",
       "      <th>gbest</th>\n",
       "      <th>tipologia</th>\n",
       "      <th>descrizione_categoria_bene</th>\n",
       "      <th>macroiteramm</th>\n",
       "      <th>descrizione_sottocategoria_bene</th>\n",
       "      <th>prov</th>\n",
       "      <th>comune</th>\n",
       "      <th>...</th>\n",
       "      <th>descrizioneentedest</th>\n",
       "      <th>colonna</th>\n",
       "      <th>dataprovvdest</th>\n",
       "      <th>annoprovvdest</th>\n",
       "      <th>ufficio_giudiziario</th>\n",
       "      <th>distretto</th>\n",
       "      <th>procedura</th>\n",
       "      <th>numero_decreto</th>\n",
       "      <th>fonte</th>\n",
       "      <th>Unnamed: 23</th>\n",
       "    </tr>\n",
       "  </thead>\n",
       "  <tbody>\n",
       "    <tr>\n",
       "      <th>0</th>\n",
       "      <td>A-PT-59394-S</td>\n",
       "      <td>Agliana - A-PT-59394-S - aziende - Commercio i...</td>\n",
       "      <td>4863122.5</td>\n",
       "      <td>1660922.21</td>\n",
       "      <td>Aziende in gestione</td>\n",
       "      <td>Commercio ingrosso-dettaglio, riparazione veic...</td>\n",
       "      <td>In gestione</td>\n",
       "      <td>Commercio ingrosso-dettaglio, riparazione veic...</td>\n",
       "      <td>Pistoia</td>\n",
       "      <td>Agliana</td>\n",
       "      <td>...</td>\n",
       "      <td>NaN</td>\n",
       "      <td>NaN</td>\n",
       "      <td>NaN</td>\n",
       "      <td>NaN</td>\n",
       "      <td>Tribunale</td>\n",
       "      <td>Prato</td>\n",
       "      <td>Misure di Prevenzione</td>\n",
       "      <td>NaN</td>\n",
       "      <td>ANBSC-OR-2018-01-03</td>\n",
       "      <td>NaN</td>\n",
       "    </tr>\n",
       "    <tr>\n",
       "      <th>1</th>\n",
       "      <td>I-LU-15621</td>\n",
       "      <td>Altopascio - I-LU-15621 - immobili - Appartame...</td>\n",
       "      <td>4852349.0</td>\n",
       "      <td>1637914.00</td>\n",
       "      <td>Immobili destinati</td>\n",
       "      <td>Unità immobiliare per uso di abitazione e assi...</td>\n",
       "      <td>Destinato</td>\n",
       "      <td>Appartamento in condominio</td>\n",
       "      <td>Lucca</td>\n",
       "      <td>Altopascio</td>\n",
       "      <td>...</td>\n",
       "      <td>Comuni</td>\n",
       "      <td>NaN</td>\n",
       "      <td>2003.0</td>\n",
       "      <td>29/05/2003</td>\n",
       "      <td>Tribunale</td>\n",
       "      <td>REGGIO DI CALABRIA</td>\n",
       "      <td>7/1998</td>\n",
       "      <td>107.0</td>\n",
       "      <td>ANBSC-OR-2018-01-03</td>\n",
       "      <td>NaN</td>\n",
       "    </tr>\n",
       "    <tr>\n",
       "      <th>2</th>\n",
       "      <td>I-LU-15632</td>\n",
       "      <td>Altopascio - I-LU-15632 - immobili - Appartame...</td>\n",
       "      <td>4852349.0</td>\n",
       "      <td>1637914.00</td>\n",
       "      <td>Immobili destinati</td>\n",
       "      <td>Unità immobiliare per uso di abitazione e assi...</td>\n",
       "      <td>Destinato</td>\n",
       "      <td>Appartamento in condominio</td>\n",
       "      <td>Lucca</td>\n",
       "      <td>Altopascio</td>\n",
       "      <td>...</td>\n",
       "      <td>Comuni</td>\n",
       "      <td>NaN</td>\n",
       "      <td>2003.0</td>\n",
       "      <td>29/05/2003</td>\n",
       "      <td>Tribunale</td>\n",
       "      <td>REGGIO DI CALABRIA</td>\n",
       "      <td>7/1998</td>\n",
       "      <td>107.0</td>\n",
       "      <td>ANBSC-OR-2018-01-03</td>\n",
       "      <td>NaN</td>\n",
       "    </tr>\n",
       "    <tr>\n",
       "      <th>3</th>\n",
       "      <td>I-LU-15640</td>\n",
       "      <td>Altopascio - I-LU-15640 - immobili - Appartame...</td>\n",
       "      <td>4852349.0</td>\n",
       "      <td>1637914.00</td>\n",
       "      <td>Immobili destinati</td>\n",
       "      <td>Unità immobiliare per uso di abitazione e assi...</td>\n",
       "      <td>Destinato</td>\n",
       "      <td>Appartamento in condominio</td>\n",
       "      <td>Lucca</td>\n",
       "      <td>Altopascio</td>\n",
       "      <td>...</td>\n",
       "      <td>Comuni</td>\n",
       "      <td>NaN</td>\n",
       "      <td>2003.0</td>\n",
       "      <td>29/05/2003</td>\n",
       "      <td>Tribunale</td>\n",
       "      <td>REGGIO DI CALABRIA</td>\n",
       "      <td>7/1998</td>\n",
       "      <td>107.0</td>\n",
       "      <td>ANBSC-OR-2018-01-03</td>\n",
       "      <td>NaN</td>\n",
       "    </tr>\n",
       "    <tr>\n",
       "      <th>4</th>\n",
       "      <td>I-LU-15648</td>\n",
       "      <td>Altopascio - I-LU-15648 - immobili - Appartame...</td>\n",
       "      <td>4852349.0</td>\n",
       "      <td>1637914.00</td>\n",
       "      <td>Immobili destinati</td>\n",
       "      <td>Unità immobiliare per uso di abitazione e assi...</td>\n",
       "      <td>Destinato</td>\n",
       "      <td>Appartamento in condominio</td>\n",
       "      <td>Lucca</td>\n",
       "      <td>Altopascio</td>\n",
       "      <td>...</td>\n",
       "      <td>Comuni</td>\n",
       "      <td>NaN</td>\n",
       "      <td>2003.0</td>\n",
       "      <td>29/05/2003</td>\n",
       "      <td>Tribunale</td>\n",
       "      <td>REGGIO DI CALABRIA</td>\n",
       "      <td>7/1998</td>\n",
       "      <td>107.0</td>\n",
       "      <td>ANBSC-OR-2018-01-03</td>\n",
       "      <td>NaN</td>\n",
       "    </tr>\n",
       "  </tbody>\n",
       "</table>\n",
       "<p>5 rows × 24 columns</p>\n",
       "</div>"
      ],
      "text/plain": [
       "             id                                               nome     gbnord  \\\n",
       "0  A-PT-59394-S  Agliana - A-PT-59394-S - aziende - Commercio i...  4863122.5   \n",
       "1    I-LU-15621  Altopascio - I-LU-15621 - immobili - Appartame...  4852349.0   \n",
       "2    I-LU-15632  Altopascio - I-LU-15632 - immobili - Appartame...  4852349.0   \n",
       "3    I-LU-15640  Altopascio - I-LU-15640 - immobili - Appartame...  4852349.0   \n",
       "4    I-LU-15648  Altopascio - I-LU-15648 - immobili - Appartame...  4852349.0   \n",
       "\n",
       "        gbest            tipologia  \\\n",
       "0  1660922.21  Aziende in gestione   \n",
       "1  1637914.00   Immobili destinati   \n",
       "2  1637914.00   Immobili destinati   \n",
       "3  1637914.00   Immobili destinati   \n",
       "4  1637914.00   Immobili destinati   \n",
       "\n",
       "                          descrizione_categoria_bene macroiteramm  \\\n",
       "0  Commercio ingrosso-dettaglio, riparazione veic...  In gestione   \n",
       "1  Unità immobiliare per uso di abitazione e assi...    Destinato   \n",
       "2  Unità immobiliare per uso di abitazione e assi...    Destinato   \n",
       "3  Unità immobiliare per uso di abitazione e assi...    Destinato   \n",
       "4  Unità immobiliare per uso di abitazione e assi...    Destinato   \n",
       "\n",
       "                     descrizione_sottocategoria_bene     prov      comune  \\\n",
       "0  Commercio ingrosso-dettaglio, riparazione veic...  Pistoia     Agliana   \n",
       "1                         Appartamento in condominio    Lucca  Altopascio   \n",
       "2                         Appartamento in condominio    Lucca  Altopascio   \n",
       "3                         Appartamento in condominio    Lucca  Altopascio   \n",
       "4                         Appartamento in condominio    Lucca  Altopascio   \n",
       "\n",
       "      ...     descrizioneentedest colonna dataprovvdest annoprovvdest  \\\n",
       "0     ...                     NaN     NaN           NaN           NaN   \n",
       "1     ...                  Comuni     NaN        2003.0    29/05/2003   \n",
       "2     ...                  Comuni     NaN        2003.0    29/05/2003   \n",
       "3     ...                  Comuni     NaN        2003.0    29/05/2003   \n",
       "4     ...                  Comuni     NaN        2003.0    29/05/2003   \n",
       "\n",
       "  ufficio_giudiziario           distretto              procedura  \\\n",
       "0           Tribunale               Prato  Misure di Prevenzione   \n",
       "1           Tribunale  REGGIO DI CALABRIA                 7/1998   \n",
       "2           Tribunale  REGGIO DI CALABRIA                 7/1998   \n",
       "3           Tribunale  REGGIO DI CALABRIA                 7/1998   \n",
       "4           Tribunale  REGGIO DI CALABRIA                 7/1998   \n",
       "\n",
       "  numero_decreto                fonte Unnamed: 23  \n",
       "0            NaN  ANBSC-OR-2018-01-03         NaN  \n",
       "1          107.0  ANBSC-OR-2018-01-03         NaN  \n",
       "2          107.0  ANBSC-OR-2018-01-03         NaN  \n",
       "3          107.0  ANBSC-OR-2018-01-03         NaN  \n",
       "4          107.0  ANBSC-OR-2018-01-03         NaN  \n",
       "\n",
       "[5 rows x 24 columns]"
      ]
     },
     "execution_count": 6,
     "metadata": {},
     "output_type": "execute_result"
    }
   ],
   "source": [
    "df.head()"
   ]
  },
  {
   "cell_type": "code",
   "execution_count": 7,
   "metadata": {},
   "outputs": [
    {
     "data": {
      "text/plain": [
       "id                                                                      A-PT-59394-S\n",
       "nome                               Agliana - A-PT-59394-S - aziende - Commercio i...\n",
       "gbnord                                                                   4.86312e+06\n",
       "gbest                                                                    1.66092e+06\n",
       "tipologia                                                        Aziende in gestione\n",
       "descrizione_categoria_bene         Commercio ingrosso-dettaglio, riparazione veic...\n",
       "macroiteramm                                                             In gestione\n",
       "descrizione_sottocategoria_bene    Commercio ingrosso-dettaglio, riparazione veic...\n",
       "prov                                                                         Pistoia\n",
       "comune                                                                       Agliana\n",
       "indirizzo                                                      Indirizzo imprecisato\n",
       "link_scheda_rt                                                                   NaN\n",
       "desitergiu                                                       Confisca definitiva\n",
       "destipodest                                                                      NaN\n",
       "descrizioneentedest                                                              NaN\n",
       "colonna                                                                          NaN\n",
       "dataprovvdest                                                                    NaN\n",
       "annoprovvdest                                                                    NaN\n",
       "ufficio_giudiziario                                                        Tribunale\n",
       "distretto                                                                      Prato\n",
       "procedura                                                      Misure di Prevenzione\n",
       "numero_decreto                                                                   NaN\n",
       "fonte                                                            ANBSC-OR-2018-01-03\n",
       "Unnamed: 23                                                                      NaN\n",
       "Name: 0, dtype: object"
      ]
     },
     "execution_count": 7,
     "metadata": {},
     "output_type": "execute_result"
    }
   ],
   "source": [
    "df.iloc[0]"
   ]
  },
  {
   "cell_type": "code",
   "execution_count": null,
   "metadata": {},
   "outputs": [],
   "source": []
  }
 ],
 "metadata": {
  "kernelspec": {
   "display_name": "Python 3",
   "language": "python",
   "name": "python3"
  },
  "language_info": {
   "codemirror_mode": {
    "name": "ipython",
    "version": 3
   },
   "file_extension": ".py",
   "mimetype": "text/x-python",
   "name": "python",
   "nbconvert_exporter": "python",
   "pygments_lexer": "ipython3",
   "version": "3.6.2"
  }
 },
 "nbformat": 4,
 "nbformat_minor": 2
}
